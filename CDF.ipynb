{
 "cells": [
  {
   "cell_type": "code",
   "execution_count": 1,
   "id": "314c779e",
   "metadata": {},
   "outputs": [],
   "source": [
    "from scipy import stats"
   ]
  },
  {
   "cell_type": "markdown",
   "id": "e4a9176d",
   "metadata": {},
   "source": [
    "# Cummulative distribution function(cdf)"
   ]
  },
  {
   "cell_type": "markdown",
   "id": "4c03f385",
   "metadata": {},
   "source": [
    "Find Probability of x value"
   ]
  },
  {
   "cell_type": "code",
   "execution_count": 2,
   "id": "30c62b7e",
   "metadata": {},
   "outputs": [
    {
     "data": {
      "text/plain": [
       "0.9087887802741321"
      ]
     },
     "execution_count": 2,
     "metadata": {},
     "output_type": "execute_result"
    }
   ],
   "source": [
    "stats.norm.cdf(72,68,3)  # norm means normal distribution & cdf: Cummulative distribution function i.e. P(X<x)"
   ]
  },
  {
   "cell_type": "code",
   "execution_count": 3,
   "id": "13581797",
   "metadata": {},
   "outputs": [
    {
     "data": {
      "text/plain": [
       "0.9087887802741321"
      ]
     },
     "execution_count": 3,
     "metadata": {},
     "output_type": "execute_result"
    }
   ],
   "source": [
    "stats.norm.cdf(72,loc = 68,scale = 3)  # loc(location) -> Mean & scale -> Standard deviation"
   ]
  },
  {
   "cell_type": "code",
   "execution_count": 4,
   "id": "1eed0210",
   "metadata": {},
   "outputs": [
    {
     "data": {
      "text/plain": [
       "0.09121121972586788"
      ]
     },
     "execution_count": 4,
     "metadata": {},
     "output_type": "execute_result"
    }
   ],
   "source": [
    "1-stats.norm.cdf(72,loc = 68,scale = 3)"
   ]
  },
  {
   "cell_type": "code",
   "execution_count": 5,
   "id": "6a200bba",
   "metadata": {},
   "outputs": [
    {
     "data": {
      "text/plain": [
       "0.8413447460685429"
      ]
     },
     "execution_count": 5,
     "metadata": {},
     "output_type": "execute_result"
    }
   ],
   "source": [
    "stats.norm.cdf(70,60,10)"
   ]
  },
  {
   "cell_type": "code",
   "execution_count": 6,
   "id": "b063adb5",
   "metadata": {},
   "outputs": [
    {
     "data": {
      "text/plain": [
       "0.14254260383881612"
      ]
     },
     "execution_count": 6,
     "metadata": {},
     "output_type": "execute_result"
    }
   ],
   "source": [
    "stats.norm.cdf(680,711,29)"
   ]
  },
  {
   "cell_type": "code",
   "execution_count": 7,
   "id": "ad35dba3",
   "metadata": {},
   "outputs": [
    {
     "data": {
      "text/plain": [
       "0.5267111786415019"
      ]
     },
     "execution_count": 7,
     "metadata": {},
     "output_type": "execute_result"
    }
   ],
   "source": [
    "stats.norm.cdf(740,711,29)-stats.norm.cdf(697,711,29)"
   ]
  },
  {
   "cell_type": "markdown",
   "id": "9bf77811",
   "metadata": {},
   "source": [
    "# Point percentage function"
   ]
  },
  {
   "cell_type": "markdown",
   "id": "0c67ffa1",
   "metadata": {},
   "source": [
    "Find x value on X axis"
   ]
  },
  {
   "cell_type": "code",
   "execution_count": 8,
   "id": "132cd087",
   "metadata": {},
   "outputs": [],
   "source": [
    "# mean = 700 , SD = 25, Probability = 0.85"
   ]
  },
  {
   "cell_type": "code",
   "execution_count": 9,
   "id": "caac196a",
   "metadata": {},
   "outputs": [
    {
     "data": {
      "text/plain": [
       "725.9108347373448"
      ]
     },
     "execution_count": 9,
     "metadata": {},
     "output_type": "execute_result"
    }
   ],
   "source": [
    "stats.norm.ppf(0.85,700,25)"
   ]
  },
  {
   "cell_type": "markdown",
   "id": "752ed444",
   "metadata": {},
   "source": [
    "# Probability Quetions: \n",
    "1. According to survey the average weight of child is 70 pounds in US with sd 10 pounds\n",
    "- What is the probability that the weight is less than 50?"
   ]
  },
  {
   "cell_type": "code",
   "execution_count": 11,
   "id": "f45b0d80",
   "metadata": {},
   "outputs": [
    {
     "data": {
      "text/plain": [
       "0.022750131948179195"
      ]
     },
     "execution_count": 11,
     "metadata": {},
     "output_type": "execute_result"
    }
   ],
   "source": [
    "stats.norm.cdf(50,70,10)"
   ]
  },
  {
   "cell_type": "markdown",
   "id": "d83c01d6",
   "metadata": {},
   "source": [
    "- What is probability that the weight is in range 50 to 90?"
   ]
  },
  {
   "cell_type": "code",
   "execution_count": 12,
   "id": "38a34d55",
   "metadata": {},
   "outputs": [
    {
     "data": {
      "text/plain": [
       "0.9544997361036416"
      ]
     },
     "execution_count": 12,
     "metadata": {},
     "output_type": "execute_result"
    }
   ],
   "source": [
    "stats.norm.cdf(90,70,10)-stats.norm.cdf(50,70,10)"
   ]
  },
  {
   "cell_type": "markdown",
   "id": "fcce21f3",
   "metadata": {},
   "source": [
    "- What is probability that the weight is greater than 100 pounds ?"
   ]
  },
  {
   "cell_type": "code",
   "execution_count": 13,
   "id": "a32678c4",
   "metadata": {},
   "outputs": [
    {
     "data": {
      "text/plain": [
       "0.9986501019683699"
      ]
     },
     "execution_count": 13,
     "metadata": {},
     "output_type": "execute_result"
    }
   ],
   "source": [
    "stats.norm.cdf(100,70,10)"
   ]
  },
  {
   "cell_type": "code",
   "execution_count": 14,
   "id": "0f4b6cdc",
   "metadata": {},
   "outputs": [
    {
     "data": {
      "text/plain": [
       "0.0013498980316301035"
      ]
     },
     "execution_count": 14,
     "metadata": {},
     "output_type": "execute_result"
    }
   ],
   "source": [
    "1-stats.norm.cdf(100,70,10)"
   ]
  },
  {
   "cell_type": "markdown",
   "id": "6e27c1cc",
   "metadata": {},
   "source": [
    "- What is probability that the weight is between 55 and 70 ?"
   ]
  },
  {
   "cell_type": "code",
   "execution_count": 15,
   "id": "eb802e2a",
   "metadata": {},
   "outputs": [
    {
     "data": {
      "text/plain": [
       "0.4331927987311419"
      ]
     },
     "execution_count": 15,
     "metadata": {},
     "output_type": "execute_result"
    }
   ],
   "source": [
    "stats.norm.cdf(70,70,10)-stats.norm.cdf(55,70,10)"
   ]
  },
  {
   "cell_type": "markdown",
   "id": "18aebf97",
   "metadata": {},
   "source": [
    "- What is probability that the weight is equal to 75 pounds ?\n",
    "     - No need to find answer. Probability of any single point is zero. Because prob. in ND is area under the curve and area of single line is zero."
   ]
  },
  {
   "cell_type": "code",
   "execution_count": null,
   "id": "7d0ddb68",
   "metadata": {},
   "outputs": [],
   "source": []
  }
 ],
 "metadata": {
  "kernelspec": {
   "display_name": "Python 3 (ipykernel)",
   "language": "python",
   "name": "python3"
  },
  "language_info": {
   "codemirror_mode": {
    "name": "ipython",
    "version": 3
   },
   "file_extension": ".py",
   "mimetype": "text/x-python",
   "name": "python",
   "nbconvert_exporter": "python",
   "pygments_lexer": "ipython3",
   "version": "3.11.5"
  }
 },
 "nbformat": 4,
 "nbformat_minor": 5
}
