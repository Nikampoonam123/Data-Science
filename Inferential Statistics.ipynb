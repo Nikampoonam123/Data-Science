{
 "cells": [
  {
   "cell_type": "markdown",
   "id": "83568484",
   "metadata": {},
   "source": [
    "# Inferential Statistics"
   ]
  },
  {
   "cell_type": "markdown",
   "id": "782066c2",
   "metadata": {},
   "source": [
    "## Cental Limit Theorem"
   ]
  },
  {
   "cell_type": "markdown",
   "id": "9bde7e3c",
   "metadata": {},
   "source": [
    "## Confidence interval"
   ]
  },
  {
   "cell_type": "code",
   "execution_count": 1,
   "id": "f5b19c88",
   "metadata": {},
   "outputs": [],
   "source": [
    "from scipy import stats\n",
    "import numpy as np"
   ]
  },
  {
   "cell_type": "markdown",
   "id": "c9528be3",
   "metadata": {},
   "source": [
    "- point on x-axis by using z-test"
   ]
  },
  {
   "cell_type": "code",
   "execution_count": 2,
   "id": "f93d5ff2",
   "metadata": {},
   "outputs": [
    {
     "data": {
      "text/plain": [
       "1.959963984540054"
      ]
     },
     "execution_count": 2,
     "metadata": {},
     "output_type": "execute_result"
    }
   ],
   "source": [
    "stats.norm.ppf(0.975)"
   ]
  },
  {
   "cell_type": "code",
   "execution_count": 3,
   "id": "df58cfaa",
   "metadata": {},
   "outputs": [
    {
     "data": {
      "text/plain": [
       "(1520.721510546228, 2459.2784894537717)"
      ]
     },
     "execution_count": 3,
     "metadata": {},
     "output_type": "execute_result"
    }
   ],
   "source": [
    "stats.norm.interval(0.95,1990,2833/np.sqrt(140))"
   ]
  },
  {
   "cell_type": "markdown",
   "id": "6bf20d23",
   "metadata": {},
   "source": [
    "- point on x-axis by using t-test"
   ]
  },
  {
   "cell_type": "code",
   "execution_count": 4,
   "id": "221a3b7e",
   "metadata": {},
   "outputs": [
    {
     "data": {
      "text/plain": [
       "1.977177724476122"
      ]
     },
     "execution_count": 4,
     "metadata": {},
     "output_type": "execute_result"
    }
   ],
   "source": [
    "stats.t.ppf(0.975,df = 139)"
   ]
  },
  {
   "cell_type": "code",
   "execution_count": 5,
   "id": "192a3c56",
   "metadata": {},
   "outputs": [
    {
     "data": {
      "text/plain": [
       "(1516.5999869168315, 2463.4000130831682)"
      ]
     },
     "execution_count": 5,
     "metadata": {},
     "output_type": "execute_result"
    }
   ],
   "source": [
    "stats.t.interval(0.95,df=139,loc=1990,scale=2833/np.sqrt(140))"
   ]
  },
  {
   "cell_type": "code",
   "execution_count": null,
   "id": "eef5e94e",
   "metadata": {},
   "outputs": [],
   "source": []
  }
 ],
 "metadata": {
  "kernelspec": {
   "display_name": "Python 3 (ipykernel)",
   "language": "python",
   "name": "python3"
  },
  "language_info": {
   "codemirror_mode": {
    "name": "ipython",
    "version": 3
   },
   "file_extension": ".py",
   "mimetype": "text/x-python",
   "name": "python",
   "nbconvert_exporter": "python",
   "pygments_lexer": "ipython3",
   "version": "3.11.5"
  }
 },
 "nbformat": 4,
 "nbformat_minor": 5
}
